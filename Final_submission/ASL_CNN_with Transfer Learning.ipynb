{
 "cells": [
  {
   "cell_type": "markdown",
   "id": "fa556917",
   "metadata": {},
   "source": [
    "## Importing Data"
   ]
  },
  {
   "cell_type": "raw",
   "id": "d0b23fa3",
   "metadata": {},
   "source": [
    "In this notebook-\n",
    "\n",
    "    "
   ]
  },
  {
   "cell_type": "code",
   "execution_count": 1,
   "id": "c5eed1ad",
   "metadata": {},
   "outputs": [],
   "source": [
    "import pandas as pd\n",
    "import matplotlib.pyplot as plt\n",
    "import numpy as np\n",
    "import seaborn as sns\n",
    "\n",
    "from sklearn.preprocessing import StandardScaler\n",
    "from sklearn.metrics import accuracy_score\n",
    "from sklearn.model_selection import train_test_split\n",
    "\n",
    "\n",
    "import keras\n",
    "from keras.layers import Dropout\n",
    "from keras.utils import np_utils"
   ]
  },
  {
   "cell_type": "code",
   "execution_count": 2,
   "id": "c121e1d9",
   "metadata": {},
   "outputs": [],
   "source": [
    "df_sign = pd.read_csv('sign_mnist_train.csv')"
   ]
  },
  {
   "cell_type": "code",
   "execution_count": 3,
   "id": "d97a959c",
   "metadata": {},
   "outputs": [],
   "source": [
    "df_sign_test = pd.read_csv('sign_mnist_test.csv')"
   ]
  },
  {
   "cell_type": "markdown",
   "id": "2b46cca4",
   "metadata": {},
   "source": [
    "## Setting up train and test sets"
   ]
  },
  {
   "cell_type": "code",
   "execution_count": 4,
   "id": "d1827ab2",
   "metadata": {},
   "outputs": [],
   "source": [
    "scaler = StandardScaler()"
   ]
  },
  {
   "cell_type": "code",
   "execution_count": 5,
   "id": "df50d610",
   "metadata": {},
   "outputs": [],
   "source": [
    "X_train = df_sign.iloc[:,1:785]"
   ]
  },
  {
   "cell_type": "code",
   "execution_count": 6,
   "id": "6802536a",
   "metadata": {},
   "outputs": [],
   "source": [
    "X_train_scaled= scaler.fit_transform(X_train)\n"
   ]
  },
  {
   "cell_type": "code",
   "execution_count": 7,
   "id": "ac39ef8a",
   "metadata": {},
   "outputs": [],
   "source": [
    "X_train2 = X_train_scaled.reshape((-1,28,28, 1))"
   ]
  },
  {
   "cell_type": "code",
   "execution_count": 8,
   "id": "ab4456ab",
   "metadata": {},
   "outputs": [
    {
     "data": {
      "text/plain": [
       "(27455, 28, 28, 1)"
      ]
     },
     "execution_count": 8,
     "metadata": {},
     "output_type": "execute_result"
    }
   ],
   "source": [
    "X_train2.shape"
   ]
  },
  {
   "cell_type": "code",
   "execution_count": 9,
   "id": "56e03898",
   "metadata": {},
   "outputs": [],
   "source": [
    "X_train3 = np.repeat(X_train2, 3, axis=-1)"
   ]
  },
  {
   "cell_type": "code",
   "execution_count": 10,
   "id": "2f674be6",
   "metadata": {},
   "outputs": [
    {
     "data": {
      "text/plain": [
       "(27455, 28, 28, 3)"
      ]
     },
     "execution_count": 10,
     "metadata": {},
     "output_type": "execute_result"
    }
   ],
   "source": [
    "X_train3.shape"
   ]
  },
  {
   "cell_type": "code",
   "execution_count": 11,
   "id": "23eb38da",
   "metadata": {},
   "outputs": [],
   "source": [
    "y_train = df_sign['label']"
   ]
  },
  {
   "cell_type": "code",
   "execution_count": 12,
   "id": "0cb50e21",
   "metadata": {},
   "outputs": [],
   "source": [
    "y_train_cat = np_utils.to_categorical(y_train)"
   ]
  },
  {
   "cell_type": "code",
   "execution_count": 13,
   "id": "5cd1c92a",
   "metadata": {},
   "outputs": [
    {
     "data": {
      "text/plain": [
       "((27455, 28, 28, 3), (27455, 25))"
      ]
     },
     "execution_count": 13,
     "metadata": {},
     "output_type": "execute_result"
    }
   ],
   "source": [
    "X_train3.shape , y_train_cat.shape"
   ]
  },
  {
   "cell_type": "code",
   "execution_count": 14,
   "id": "40a4064f",
   "metadata": {},
   "outputs": [],
   "source": [
    "X_test = df_sign_test.iloc[:,1:785]"
   ]
  },
  {
   "cell_type": "code",
   "execution_count": 15,
   "id": "5613dba2",
   "metadata": {},
   "outputs": [],
   "source": [
    "X_test_scaled= scaler.transform(X_test)\n"
   ]
  },
  {
   "cell_type": "code",
   "execution_count": 16,
   "id": "60405612",
   "metadata": {},
   "outputs": [],
   "source": [
    "X_test2 = X_test_scaled.reshape((-1,28,28, 1))"
   ]
  },
  {
   "cell_type": "code",
   "execution_count": 17,
   "id": "cc12c663",
   "metadata": {},
   "outputs": [],
   "source": [
    "X_test3 = np.repeat(X_test2, 3, axis=-1)"
   ]
  },
  {
   "cell_type": "code",
   "execution_count": 18,
   "id": "0c80cbc8",
   "metadata": {},
   "outputs": [],
   "source": [
    "y_test = df_sign_test['label']"
   ]
  },
  {
   "cell_type": "code",
   "execution_count": null,
   "id": "b277d41c",
   "metadata": {},
   "outputs": [],
   "source": []
  },
  {
   "cell_type": "markdown",
   "id": "83288b10",
   "metadata": {},
   "source": [
    "## Transfer Learning with ImageNet"
   ]
  },
  {
   "cell_type": "code",
   "execution_count": 19,
   "id": "206ac9ca",
   "metadata": {},
   "outputs": [],
   "source": [
    "import keras\n",
    "from keras.models import Sequential\n",
    "from keras.layers import Dense, Conv2D, MaxPooling2D, Flatten, InputLayer\n",
    "from keras.applications.vgg16 import VGG16\n",
    "from keras.layers import ZeroPadding2D, Dropout \n",
    "\n",
    "base = VGG16(weights='imagenet', include_top=False, input_shape=(32,32,3))\n",
    "\n",
    "# Freeze convolutional layers\n",
    "for layer in base.layers:\n",
    "    layer.trainable = False  \n",
    "\n",
    "NN_transfer = Sequential(\n",
    "                        [InputLayer(input_shape=X_train3.shape[1:]),\n",
    "                         ZeroPadding2D(padding=2),\n",
    "                         base,\n",
    "                         Flatten(),\n",
    "                         Dense(30, activation='relu'),\n",
    "                         Dense(35, activation='relu'),\n",
    "                         Dense(25, activation='softmax')]\n",
    "                       )\n",
    "\n",
    "NN_transfer.compile(\n",
    "    loss='categorical_crossentropy',\n",
    "    optimizer='adam',\n",
    "    metrics=['accuracy'],\n",
    ")"
   ]
  },
  {
   "cell_type": "code",
   "execution_count": 20,
   "id": "75cddcf3",
   "metadata": {},
   "outputs": [
    {
     "name": "stdout",
     "output_type": "stream",
     "text": [
      "Epoch 1/10\n",
      "644/644 [==============================] - 148s 212ms/step - loss: 2.2180 - accuracy: 0.3598 - val_loss: 0.7556 - val_accuracy: 0.7700\n",
      "Epoch 2/10\n",
      "644/644 [==============================] - 128s 199ms/step - loss: 0.6302 - accuracy: 0.8133 - val_loss: 0.4108 - val_accuracy: 0.8865\n",
      "Epoch 3/10\n",
      "644/644 [==============================] - 117s 181ms/step - loss: 0.3622 - accuracy: 0.8975 - val_loss: 0.2731 - val_accuracy: 0.9242\n",
      "Epoch 4/10\n",
      "644/644 [==============================] - 136s 212ms/step - loss: 0.2430 - accuracy: 0.9331 - val_loss: 0.2103 - val_accuracy: 0.9432\n",
      "Epoch 5/10\n",
      "644/644 [==============================] - 125s 193ms/step - loss: 0.1710 - accuracy: 0.9561 - val_loss: 0.1726 - val_accuracy: 0.9487\n",
      "Epoch 6/10\n",
      "644/644 [==============================] - 135s 210ms/step - loss: 0.1378 - accuracy: 0.9628 - val_loss: 0.1323 - val_accuracy: 0.9679\n",
      "Epoch 7/10\n",
      "644/644 [==============================] - 140s 218ms/step - loss: 0.1088 - accuracy: 0.9719 - val_loss: 0.1028 - val_accuracy: 0.9733\n",
      "Epoch 8/10\n",
      "644/644 [==============================] - 138s 215ms/step - loss: 0.0891 - accuracy: 0.9787 - val_loss: 0.0940 - val_accuracy: 0.9738\n",
      "Epoch 9/10\n",
      "644/644 [==============================] - 185s 287ms/step - loss: 0.0754 - accuracy: 0.9815 - val_loss: 0.1138 - val_accuracy: 0.9633\n",
      "Epoch 10/10\n",
      "644/644 [==============================] - 191s 297ms/step - loss: 0.0605 - accuracy: 0.9860 - val_loss: 0.0739 - val_accuracy: 0.9811\n"
     ]
    },
    {
     "data": {
      "text/plain": [
       "<keras.callbacks.History at 0x159b9f040>"
      ]
     },
     "execution_count": 20,
     "metadata": {},
     "output_type": "execute_result"
    }
   ],
   "source": [
    "NN_transfer.fit(X_train3, y_train_cat, epochs=10, verbose=1, validation_split=0.25)"
   ]
  },
  {
   "cell_type": "code",
   "execution_count": 21,
   "id": "ff363da9",
   "metadata": {},
   "outputs": [
    {
     "data": {
      "text/plain": [
       "0.8768823201338539"
      ]
     },
     "execution_count": 21,
     "metadata": {},
     "output_type": "execute_result"
    }
   ],
   "source": [
    "accuracy_score(y_test, np.argmax(NN_transfer.predict(X_test3), axis=-1))"
   ]
  },
  {
   "cell_type": "markdown",
   "id": "9b1af698",
   "metadata": {},
   "source": [
    "## Confusion Matrix"
   ]
  },
  {
   "cell_type": "code",
   "execution_count": 22,
   "id": "4564ee72",
   "metadata": {},
   "outputs": [
    {
     "ename": "NameError",
     "evalue": "name 'NN' is not defined",
     "output_type": "error",
     "traceback": [
      "\u001b[0;31m---------------------------------------------------------------------------\u001b[0m",
      "\u001b[0;31mNameError\u001b[0m                                 Traceback (most recent call last)",
      "\u001b[0;32m<ipython-input-22-8487a5efccef>\u001b[0m in \u001b[0;36m<module>\u001b[0;34m\u001b[0m\n\u001b[0;32m----> 1\u001b[0;31m \u001b[0my_pred\u001b[0m \u001b[0;34m=\u001b[0m \u001b[0mnp\u001b[0m\u001b[0;34m.\u001b[0m\u001b[0margmax\u001b[0m\u001b[0;34m(\u001b[0m\u001b[0mNN\u001b[0m\u001b[0;34m.\u001b[0m\u001b[0mpredict\u001b[0m\u001b[0;34m(\u001b[0m\u001b[0mX_test3\u001b[0m\u001b[0;34m)\u001b[0m\u001b[0;34m,\u001b[0m\u001b[0maxis\u001b[0m \u001b[0;34m=\u001b[0m \u001b[0;36m1\u001b[0m\u001b[0;34m)\u001b[0m\u001b[0;34m\u001b[0m\u001b[0;34m\u001b[0m\u001b[0m\n\u001b[0m",
      "\u001b[0;31mNameError\u001b[0m: name 'NN' is not defined"
     ]
    }
   ],
   "source": [
    "y_pred = np.argmax(NN.predict(X_test3),axis = 1) "
   ]
  },
  {
   "cell_type": "code",
   "execution_count": null,
   "id": "dc8387a0",
   "metadata": {},
   "outputs": [],
   "source": [
    "from sklearn.metrics import confusion_matrix\n",
    "CM = confusion_matrix(y_test, y_pred)\n",
    "plt.figure(figsize = (12,8))\n",
    "sns.heatmap(CM, annot=True, cmap=\"Blues\", fmt = 'g')\n",
    "plt.xlabel(\"Predicted Classes\")\n",
    "plt.ylabel(\"True Classes\")\n",
    "plt.title(\"Confusion Matrix\")\n",
    "plt.show()"
   ]
  }
 ],
 "metadata": {
  "kernelspec": {
   "display_name": "Python 3",
   "language": "python",
   "name": "python3"
  },
  "language_info": {
   "codemirror_mode": {
    "name": "ipython",
    "version": 3
   },
   "file_extension": ".py",
   "mimetype": "text/x-python",
   "name": "python",
   "nbconvert_exporter": "python",
   "pygments_lexer": "ipython3",
   "version": "3.9.6"
  }
 },
 "nbformat": 4,
 "nbformat_minor": 5
}
